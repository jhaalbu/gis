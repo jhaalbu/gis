{
 "cells": [
  {
   "cell_type": "code",
   "execution_count": 1,
   "metadata": {},
   "outputs": [],
   "source": [
    "import arcpy\n",
    "import pandas as pd\n",
    "import matplotlib.pyplot as plt\n",
    "import time"
   ]
  },
  {
   "cell_type": "code",
   "execution_count": 2,
   "metadata": {},
   "outputs": [],
   "source": [
    "def profil(inputfc, insurface, out_table):\n",
    "    arcpy.ddd.StackProfile(inputfc, insurface, out_table)\n",
    "    with arcpy.da.SearchCursor(out_table, [\"FIRST_DIST\", 'FIRST_Z']) as cursor:\n",
    "        m_list = []\n",
    "        z_list = []\n",
    "        \n",
    "        for row in cursor:\n",
    "            m, z = row\n",
    "            m_list.append(m)\n",
    "            z_list.append(z)\n",
    "              \n",
    "        #Etablerer Pandas dataframe for forenkling av vidare databehandling\n",
    "    df = pd.DataFrame(list(zip(m_list, z_list)), columns =['M', 'Z'])\n",
    "    return df"
   ]
  },
  {
   "cell_type": "code",
   "execution_count": 12,
   "metadata": {},
   "outputs": [],
   "source": [
    "inputfc1 = r'C:\\Users\\jan.aalbu\\OneDrive - Asplan Viak\\Documents\\ArcGIS\\Projects\\Henjadalen\\Henjadalen.gdb\\profil'\n",
    "insurface1 = r'C:\\Users\\jan.aalbu\\OneDrive - Asplan Viak\\Documents\\ArcGIS\\Projects\\Henjadalen\\NDH Leikanger-Sogndal 2pkt 2016\\data\\dtm\\NDH Leikanger-Sogndal 2pkt 2016-dtm.tif'\n",
    "inputfc1 = r'C:\\Users\\jan.aalbu\\OneDrive - Asplan Viak\\Documents\\ArcGIS\\Projects\\Henjadalen\\Henjadalen.gdb\\profil'\n",
    "insurface2 = r'C:\\Users\\jan.aalbu\\OneDrive - Asplan Viak\\Documents\\ArcGIS\\Projects\\Henjadalen\\Henjadalen.gdb\\HillSha_NDH_1'\n"
   ]
  },
  {
   "cell_type": "code",
   "execution_count": 13,
   "metadata": {},
   "outputs": [],
   "source": [
    "tittel = 'Profil'\n",
    "xlabel = 'Lengde (m)'\n",
    "ylabel = 'Høgde (m)'"
   ]
  },
  {
   "cell_type": "code",
   "execution_count": 14,
   "metadata": {},
   "outputs": [],
   "source": [
    "out_table1 = \"temp_tabell\" + str(time.time())[-4:]\n",
    "out_table2 = \"temp_tabell\" + str(time.time())[-4:]"
   ]
  },
  {
   "cell_type": "code",
   "execution_count": 15,
   "metadata": {},
   "outputs": [],
   "source": [
    "df1 = profil(inputfc1, insurface1, out_table1)\n",
    "df2 = profil(inputfc1, insurface2, out_table2)"
   ]
  },
  {
   "cell_type": "code",
   "execution_count": 19,
   "metadata": {},
   "outputs": [],
   "source": [
    "plt.plot(df['M'], df['Z'], label='Terreng 1')\n",
    "plt.plot(df2['M'], df2['Z'], label='Terreng 2')\n",
    "#plt.plot(df['M'], df['snitt'])\n",
    "plt.title(tittel)\n",
    "#plt.xlabel(\"Lengde (m)\")\n",
    "plt.xlabel(xlabel)\n",
    "#plt.ylabel(\"Høyde (m)\")\n",
    "plt.ylabel(ylabel)\n",
    "plt.grid(True)\n",
    "plt.legend()\n",
    "plt.show()"
   ]
  },
  {
   "cell_type": "code",
   "execution_count": null,
   "metadata": {},
   "outputs": [],
   "source": []
  }
 ],
 "metadata": {
  "kernelspec": {
   "display_name": "ArcGISPro",
   "language": "Python",
   "name": "python3"
  },
  "language_info": {
   "file_extension": ".py",
   "name": "python",
   "version": "3"
  }
 },
 "nbformat": 4,
 "nbformat_minor": 2
}
